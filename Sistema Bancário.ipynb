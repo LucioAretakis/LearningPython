{
 "cells": [
  {
   "cell_type": "code",
   "execution_count": 44,
   "id": "fb319af3",
   "metadata": {},
   "outputs": [],
   "source": [
    "#menu\n",
    "\n",
    "menu = '''\n",
    "\n",
    "[d]depósito\n",
    "[s]saque\n",
    "[e]extrato\n",
    "[q]sair\n",
    "\n",
    "=> '''"
   ]
  },
  {
   "cell_type": "code",
   "execution_count": 45,
   "id": "226e107e",
   "metadata": {},
   "outputs": [],
   "source": [
    "#inicio\n",
    "\n",
    "saldo = 0 \n",
    "extrato = ''\n",
    "limite = 500\n",
    "numero_saques = 0\n",
    "limite_saques = 3"
   ]
  },
  {
   "cell_type": "code",
   "execution_count": 46,
   "id": "498600a1",
   "metadata": {},
   "outputs": [
    {
     "name": "stdout",
     "output_type": "stream",
     "text": [
      "\n",
      "\n",
      "[d]depósito\n",
      "[s]saque\n",
      "[e]extrato\n",
      "[q]sair\n",
      "\n",
      "=> d\n",
      "0\n",
      "Valor para depósito: R$200\n",
      "DEPÓSITO REALIZADO. SEU SALDO AGORA É DE R$200.00\n",
      "\n",
      "\n",
      "[d]depósito\n",
      "[s]saque\n",
      "[e]extrato\n",
      "[q]sair\n",
      "\n",
      "=> s\n",
      "200.0\n",
      "Valor para saque: R$50\n",
      "SAQUE REALIZADO. SEU SALDO AGORA É DE R$150.00\n",
      "\n",
      "\n",
      "[d]depósito\n",
      "[s]saque\n",
      "[e]extrato\n",
      "[q]sair\n",
      "\n",
      "=> q\n",
      "150.0\n"
     ]
    }
   ],
   "source": [
    "while True:\n",
    "    \n",
    "    opcao = input(menu)\n",
    "    \n",
    "    \n",
    "    if opcao == 'd':\n",
    "        valor = float(input('Valor para depósito: R$'))\n",
    "        if valor > 500:\n",
    "            print('o limite para depósito é de R$500,00.')\n",
    "            \n",
    "        else:\n",
    "            saldo += valor\n",
    "            print(f'DEPÓSITO REALIZADO. SEU SALDO AGORA É DE R${saldo:.2f}')\n",
    "            extrato += f'Depósito no valor de R${valor:.2f}\\n'\n",
    "\n",
    "    elif opcao == 's':\n",
    "        valor = float(input('Valor para saque: R$'))\n",
    "        if valor > saldo:\n",
    "            print('Você não tem saldo suficiente.')\n",
    "        else:\n",
    "            if numero_saques == limite_saques:\n",
    "                print('Você não pode mais realizar saques no dia de hoje.')\n",
    "            saldo -= valor\n",
    "            numero_saques += 1\n",
    "            print(f'SAQUE REALIZADO. SEU SALDO AGORA É DE R${saldo:.2f}')\n",
    "            extrato += f'Saque no valor de R${valor:.2f}\\n'\n",
    "\n",
    "    elif opcao == 'e':\n",
    "        print(extrato)\n",
    "        print(f'Saldo: R${saldo:.2f}')\n",
    "        \n",
    "    elif opcao == 'q':\n",
    "        print('volte sempre.')\n",
    "        break\n",
    "    \n",
    "    else:\n",
    "        print('escolha uma operação válida.')"
   ]
  },
  {
   "cell_type": "code",
   "execution_count": null,
   "id": "c9ee3dd9",
   "metadata": {},
   "outputs": [],
   "source": []
  },
  {
   "cell_type": "code",
   "execution_count": null,
   "id": "2c2db507",
   "metadata": {},
   "outputs": [],
   "source": []
  }
 ],
 "metadata": {
  "kernelspec": {
   "display_name": "Python 3 (ipykernel)",
   "language": "python",
   "name": "python3"
  },
  "language_info": {
   "codemirror_mode": {
    "name": "ipython",
    "version": 3
   },
   "file_extension": ".py",
   "mimetype": "text/x-python",
   "name": "python",
   "nbconvert_exporter": "python",
   "pygments_lexer": "ipython3",
   "version": "3.11.3"
  }
 },
 "nbformat": 4,
 "nbformat_minor": 5
}
